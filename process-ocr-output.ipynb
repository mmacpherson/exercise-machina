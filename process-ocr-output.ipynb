{
 "cells": [
  {
   "cell_type": "code",
   "execution_count": 1,
   "id": "c72b17a9",
   "metadata": {
    "ExecuteTime": {
     "end_time": "2023-05-28T16:17:33.873777Z",
     "start_time": "2023-05-28T16:17:33.793041Z"
    }
   },
   "outputs": [
    {
     "data": {
      "application/javascript": [
       "\n",
       "            setTimeout(function() {\n",
       "                var nbb_cell_id = 1;\n",
       "                var nbb_unformatted_code = \"%load_ext autoreload\\n%autoreload 3\\n%load_ext nb_black\\n%load_ext dotenv\\n%dotenv\\nfrom IPython.core.interactiveshell import InteractiveShell\\n\\nInteractiveShell.ast_node_interactivity = \\\"all\\\"\";\n",
       "                var nbb_formatted_code = \"%load_ext autoreload\\n%autoreload 3\\n%load_ext nb_black\\n%load_ext dotenv\\n%dotenv\\nfrom IPython.core.interactiveshell import InteractiveShell\\n\\nInteractiveShell.ast_node_interactivity = \\\"all\\\"\";\n",
       "                var nbb_cells = Jupyter.notebook.get_cells();\n",
       "                for (var i = 0; i < nbb_cells.length; ++i) {\n",
       "                    if (nbb_cells[i].input_prompt_number == nbb_cell_id) {\n",
       "                        if (nbb_cells[i].get_text() == nbb_unformatted_code) {\n",
       "                             nbb_cells[i].set_text(nbb_formatted_code);\n",
       "                        }\n",
       "                        break;\n",
       "                    }\n",
       "                }\n",
       "            }, 500);\n",
       "            "
      ],
      "text/plain": [
       "<IPython.core.display.Javascript object>"
      ]
     },
     "metadata": {},
     "output_type": "display_data"
    }
   ],
   "source": [
    "%load_ext autoreload\n",
    "%autoreload 3\n",
    "%load_ext nb_black\n",
    "%load_ext dotenv\n",
    "%dotenv\n",
    "from IPython.core.interactiveshell import InteractiveShell\n",
    "\n",
    "InteractiveShell.ast_node_interactivity = \"all\""
   ]
  },
  {
   "cell_type": "code",
   "execution_count": 2,
   "id": "6f7c239e",
   "metadata": {
    "ExecuteTime": {
     "end_time": "2023-05-28T16:17:33.882920Z",
     "start_time": "2023-05-28T16:17:33.874977Z"
    }
   },
   "outputs": [
    {
     "data": {
      "application/javascript": [
       "\n",
       "            setTimeout(function() {\n",
       "                var nbb_cell_id = 2;\n",
       "                var nbb_unformatted_code = \"import os\\nimport functools\\nimport re\\nimport pathlib\\n\\nroot = pathlib.Path(os.environ[\\\"DATA_ROOT\\\"]).expanduser()\";\n",
       "                var nbb_formatted_code = \"import os\\nimport functools\\nimport re\\nimport pathlib\\n\\nroot = pathlib.Path(os.environ[\\\"DATA_ROOT\\\"]).expanduser()\";\n",
       "                var nbb_cells = Jupyter.notebook.get_cells();\n",
       "                for (var i = 0; i < nbb_cells.length; ++i) {\n",
       "                    if (nbb_cells[i].input_prompt_number == nbb_cell_id) {\n",
       "                        if (nbb_cells[i].get_text() == nbb_unformatted_code) {\n",
       "                             nbb_cells[i].set_text(nbb_formatted_code);\n",
       "                        }\n",
       "                        break;\n",
       "                    }\n",
       "                }\n",
       "            }, 500);\n",
       "            "
      ],
      "text/plain": [
       "<IPython.core.display.Javascript object>"
      ]
     },
     "metadata": {},
     "output_type": "display_data"
    }
   ],
   "source": [
    "import os\n",
    "import functools\n",
    "import re\n",
    "import pathlib\n",
    "\n",
    "root = pathlib.Path(os.environ[\"DATA_ROOT\"]).expanduser()"
   ]
  },
  {
   "cell_type": "code",
   "execution_count": 3,
   "id": "a5b506fd",
   "metadata": {
    "ExecuteTime": {
     "end_time": "2023-05-28T16:17:34.911953Z",
     "start_time": "2023-05-28T16:17:33.883926Z"
    }
   },
   "outputs": [
    {
     "data": {
      "application/javascript": [
       "\n",
       "            setTimeout(function() {\n",
       "                var nbb_cell_id = 3;\n",
       "                var nbb_unformatted_code = \"import numpy as np\\n\\n# import numba as nb\\nimport plotnine as p9\\nimport pandas as pd\\n\\nimport seaborn as sns\\nfrom datetime import datetime\\n\\n\\n%matplotlib inline\";\n",
       "                var nbb_formatted_code = \"import numpy as np\\n\\n# import numba as nb\\nimport plotnine as p9\\nimport pandas as pd\\n\\nimport seaborn as sns\\nfrom datetime import datetime\\n\\n\\n%matplotlib inline\";\n",
       "                var nbb_cells = Jupyter.notebook.get_cells();\n",
       "                for (var i = 0; i < nbb_cells.length; ++i) {\n",
       "                    if (nbb_cells[i].input_prompt_number == nbb_cell_id) {\n",
       "                        if (nbb_cells[i].get_text() == nbb_unformatted_code) {\n",
       "                             nbb_cells[i].set_text(nbb_formatted_code);\n",
       "                        }\n",
       "                        break;\n",
       "                    }\n",
       "                }\n",
       "            }, 500);\n",
       "            "
      ],
      "text/plain": [
       "<IPython.core.display.Javascript object>"
      ]
     },
     "metadata": {},
     "output_type": "display_data"
    }
   ],
   "source": [
    "import numpy as np\n",
    "\n",
    "# import numba as nb\n",
    "import plotnine as p9\n",
    "import pandas as pd\n",
    "\n",
    "import seaborn as sns\n",
    "from datetime import datetime\n",
    "\n",
    "\n",
    "%matplotlib inline"
   ]
  },
  {
   "cell_type": "code",
   "execution_count": 4,
   "id": "233e8dc4",
   "metadata": {
    "ExecuteTime": {
     "end_time": "2023-05-28T16:17:34.981988Z",
     "start_time": "2023-05-28T16:17:34.914395Z"
    },
    "scrolled": false
   },
   "outputs": [
    {
     "data": {
      "application/javascript": [
       "\n",
       "            setTimeout(function() {\n",
       "                var nbb_cell_id = 4;\n",
       "                var nbb_unformatted_code = \"df = pd.read_csv(root / \\\"ocr-output.csv\\\").query(\\\"frame_num >= 16\\\")\";\n",
       "                var nbb_formatted_code = \"df = pd.read_csv(root / \\\"ocr-output.csv\\\").query(\\\"frame_num >= 16\\\")\";\n",
       "                var nbb_cells = Jupyter.notebook.get_cells();\n",
       "                for (var i = 0; i < nbb_cells.length; ++i) {\n",
       "                    if (nbb_cells[i].input_prompt_number == nbb_cell_id) {\n",
       "                        if (nbb_cells[i].get_text() == nbb_unformatted_code) {\n",
       "                             nbb_cells[i].set_text(nbb_formatted_code);\n",
       "                        }\n",
       "                        break;\n",
       "                    }\n",
       "                }\n",
       "            }, 500);\n",
       "            "
      ],
      "text/plain": [
       "<IPython.core.display.Javascript object>"
      ]
     },
     "metadata": {},
     "output_type": "display_data"
    }
   ],
   "source": [
    "df = pd.read_csv(root / \"ocr-output.csv\").query(\"frame_num >= 16\")"
   ]
  },
  {
   "cell_type": "code",
   "execution_count": 5,
   "id": "4f69d2ad",
   "metadata": {
    "ExecuteTime": {
     "end_time": "2023-05-28T16:17:35.007896Z",
     "start_time": "2023-05-28T16:17:34.983355Z"
    }
   },
   "outputs": [
    {
     "data": {
      "application/javascript": [
       "\n",
       "            setTimeout(function() {\n",
       "                var nbb_cell_id = 5;\n",
       "                var nbb_unformatted_code = \"def make_monotonic(s, window_radius=11, threshold=1e-3):\\n    assert (\\n        s.index == np.arange(len(s))\\n    ).all(), \\\"Series must begin with sorted default index.\\\"\\n\\n    s_out = s.copy()\\n\\n    s = s.dropna()\\n    diffs = s.diff()\\n\\n    while (diffs < -threshold).any():\\n        # Find values on either side of the largest current negative diff.\\n        arg_min_diff = diffs.argmin()\\n        val_left = s.iloc[arg_min_diff - 1]\\n        val_right = s.iloc[arg_min_diff]\\n\\n        # Decide whether we'll null out the left or the right value.\\n        window = s.iloc[\\n            max(0, arg_min_diff - window_radius) : min(\\n                len(s), arg_min_diff + window_radius\\n            )\\n        ]\\n        wmd = window.median()\\n        if abs(val_left - wmd) < abs(val_right - wmd):\\n            # Right is farther away, null it out.\\n            s.iloc[arg_min_diff] = np.nan\\n        else:\\n            # Null out left.\\n            s.iloc[arg_min_diff - 1] = np.nan\\n\\n        s = s.dropna()\\n        diffs = s.diff()\\n\\n    return s_out.combine(s, lambda a, b: b)\";\n",
       "                var nbb_formatted_code = \"def make_monotonic(s, window_radius=11, threshold=1e-3):\\n    assert (\\n        s.index == np.arange(len(s))\\n    ).all(), \\\"Series must begin with sorted default index.\\\"\\n\\n    s_out = s.copy()\\n\\n    s = s.dropna()\\n    diffs = s.diff()\\n\\n    while (diffs < -threshold).any():\\n        # Find values on either side of the largest current negative diff.\\n        arg_min_diff = diffs.argmin()\\n        val_left = s.iloc[arg_min_diff - 1]\\n        val_right = s.iloc[arg_min_diff]\\n\\n        # Decide whether we'll null out the left or the right value.\\n        window = s.iloc[\\n            max(0, arg_min_diff - window_radius) : min(\\n                len(s), arg_min_diff + window_radius\\n            )\\n        ]\\n        wmd = window.median()\\n        if abs(val_left - wmd) < abs(val_right - wmd):\\n            # Right is farther away, null it out.\\n            s.iloc[arg_min_diff] = np.nan\\n        else:\\n            # Null out left.\\n            s.iloc[arg_min_diff - 1] = np.nan\\n\\n        s = s.dropna()\\n        diffs = s.diff()\\n\\n    return s_out.combine(s, lambda a, b: b)\";\n",
       "                var nbb_cells = Jupyter.notebook.get_cells();\n",
       "                for (var i = 0; i < nbb_cells.length; ++i) {\n",
       "                    if (nbb_cells[i].input_prompt_number == nbb_cell_id) {\n",
       "                        if (nbb_cells[i].get_text() == nbb_unformatted_code) {\n",
       "                             nbb_cells[i].set_text(nbb_formatted_code);\n",
       "                        }\n",
       "                        break;\n",
       "                    }\n",
       "                }\n",
       "            }, 500);\n",
       "            "
      ],
      "text/plain": [
       "<IPython.core.display.Javascript object>"
      ]
     },
     "metadata": {},
     "output_type": "display_data"
    }
   ],
   "source": [
    "def make_monotonic(s, window_radius=11, threshold=1e-3):\n",
    "    assert (\n",
    "        s.index == np.arange(len(s))\n",
    "    ).all(), \"Series must begin with sorted default index.\"\n",
    "\n",
    "    s_out = s.copy()\n",
    "\n",
    "    s = s.dropna()\n",
    "    diffs = s.diff()\n",
    "\n",
    "    while (diffs < -threshold).any():\n",
    "        # Find values on either side of the largest current negative diff.\n",
    "        arg_min_diff = diffs.argmin()\n",
    "        val_left = s.iloc[arg_min_diff - 1]\n",
    "        val_right = s.iloc[arg_min_diff]\n",
    "\n",
    "        # Decide whether we'll null out the left or the right value.\n",
    "        window = s.iloc[\n",
    "            max(0, arg_min_diff - window_radius) : min(\n",
    "                len(s), arg_min_diff + window_radius\n",
    "            )\n",
    "        ]\n",
    "        wmd = window.median()\n",
    "        if abs(val_left - wmd) < abs(val_right - wmd):\n",
    "            # Right is farther away, null it out.\n",
    "            s.iloc[arg_min_diff] = np.nan\n",
    "        else:\n",
    "            # Null out left.\n",
    "            s.iloc[arg_min_diff - 1] = np.nan\n",
    "\n",
    "        s = s.dropna()\n",
    "        diffs = s.diff()\n",
    "\n",
    "    return s_out.combine(s, lambda a, b: b)\n"
   ]
  },
  {
   "cell_type": "code",
   "execution_count": 6,
   "id": "05e6d224",
   "metadata": {
    "ExecuteTime": {
     "end_time": "2023-05-28T16:17:35.044924Z",
     "start_time": "2023-05-28T16:17:35.009366Z"
    }
   },
   "outputs": [
    {
     "data": {
      "application/javascript": [
       "\n",
       "            setTimeout(function() {\n",
       "                var nbb_cell_id = 6;\n",
       "                var nbb_unformatted_code = \"def _process_time_ppocr(s):\\n    try:\\n        if np.isnan(s):\\n            return None\\n    except TypeError:\\n        pass\\n    if len(s) < 5:\\n        return None\\n    s = s[-5:]\\n    a, m, b = s[:2], s[2], s[3:]\\n    if m != \\\":\\\":\\n        return None\\n    try:\\n        return 60 * float(a) + float(b)\\n    except ValueError:\\n        return None\\n\\n\\ndef _process_time_ssocr(s):\\n    s = s.strip(\\\"._\\\")\\n    if len(s) != 5:\\n        return None\\n    a, m, b = s[:2], s[2], s[3:]\\n    if m != \\\"1\\\":\\n        return None\\n    try:\\n        return 60 * float(a) + float(b)\\n    except ValueError:\\n        return None\\n\\n\\ndef process_time_ppocr(series):\\n    return series.apply(_process_time_ppocr)\\n\\n\\ndef process_time_ssocr(series):\\n    return series.apply(_process_time_ssocr)\\n\\n\\ndef _process_distance_ppocr(s):\\n    if not isinstance(s, str):\\n        return None\\n    # search for the pattern in the input string\\n    match = re.search(r\\\"\\\\b\\\\d{1,2}\\\\.\\\\d{2}\\\\b\\\", s)\\n    # if a match is found, parse the matched substring as a float and return it\\n    if match:\\n        return float(match.group())\\n    # if no match is found, return None\\n    else:\\n        return None\\n\\n\\ndef process_distance_ppocr(series):\\n    return series.apply(_process_distance_ppocr)\\n\\n\\ndef make_it_float(s):\\n    return pd.to_numeric(s, errors=\\\"coerce\\\")\\n\\n\\ndef process_field(\\n    df,\\n    landmark,\\n    ppocr_fn=make_it_float,\\n    ssocr_fn=make_it_float,\\n    enforce_monotonicity=False,\\n    debug=False,\\n):\\n    _df = (\\n        df.query(\\\"landmark == @landmark\\\")\\n        .reset_index(drop=True)\\n        .assign(\\n            _ppocr=lambda f: ppocr_fn(f.inference_text),\\n            _ssocr=lambda f: ssocr_fn(f.ssocr),\\n        )\\n        .assign(\\n            # Pre-null ssocrs where pp confidence is high.\\n            _ssocr=lambda f: f._ssocr.where(\\n                f.inference_score.isna() | (f.inference_score < 0.98), np.nan\\n            ),\\n            # Coalesce.\\n            _fused=lambda f: f._ppocr.combine_first(f._ssocr),\\n            # Identify sites where both ocrs have a value, and they agree.\\n            _both_defined_mask=lambda f: f._ppocr.notna() & f._ssocr.notna(),\\n            # _raw_disagree_mask=lambda f: ,\\n            _agree_mask=lambda f: f._ppocr == f._ssocr,\\n            _disagree_mask=lambda f: (f._ppocr != f._ssocr) & f._both_defined_mask,\\n            # Apply mask.\\n            fused=lambda f: f._fused.where(~f._disagree_mask, np.nan),\\n        )\\n    )\\n\\n    if enforce_monotonicity:\\n        _df = _df.assign(fused=lambda f: make_monotonic(f.fused))\\n\\n    if debug:\\n        return _df.rename(columns={\\\"fused\\\": landmark})\\n\\n    return _df.loc[:, [\\\"frame_num\\\", \\\"fused\\\"]].rename(columns={\\\"fused\\\": landmark})\";\n",
       "                var nbb_formatted_code = \"def _process_time_ppocr(s):\\n    try:\\n        if np.isnan(s):\\n            return None\\n    except TypeError:\\n        pass\\n    if len(s) < 5:\\n        return None\\n    s = s[-5:]\\n    a, m, b = s[:2], s[2], s[3:]\\n    if m != \\\":\\\":\\n        return None\\n    try:\\n        return 60 * float(a) + float(b)\\n    except ValueError:\\n        return None\\n\\n\\ndef _process_time_ssocr(s):\\n    s = s.strip(\\\"._\\\")\\n    if len(s) != 5:\\n        return None\\n    a, m, b = s[:2], s[2], s[3:]\\n    if m != \\\"1\\\":\\n        return None\\n    try:\\n        return 60 * float(a) + float(b)\\n    except ValueError:\\n        return None\\n\\n\\ndef process_time_ppocr(series):\\n    return series.apply(_process_time_ppocr)\\n\\n\\ndef process_time_ssocr(series):\\n    return series.apply(_process_time_ssocr)\\n\\n\\ndef _process_distance_ppocr(s):\\n    if not isinstance(s, str):\\n        return None\\n    # search for the pattern in the input string\\n    match = re.search(r\\\"\\\\b\\\\d{1,2}\\\\.\\\\d{2}\\\\b\\\", s)\\n    # if a match is found, parse the matched substring as a float and return it\\n    if match:\\n        return float(match.group())\\n    # if no match is found, return None\\n    else:\\n        return None\\n\\n\\ndef process_distance_ppocr(series):\\n    return series.apply(_process_distance_ppocr)\\n\\n\\ndef make_it_float(s):\\n    return pd.to_numeric(s, errors=\\\"coerce\\\")\\n\\n\\ndef process_field(\\n    df,\\n    landmark,\\n    ppocr_fn=make_it_float,\\n    ssocr_fn=make_it_float,\\n    enforce_monotonicity=False,\\n    debug=False,\\n):\\n    _df = (\\n        df.query(\\\"landmark == @landmark\\\")\\n        .reset_index(drop=True)\\n        .assign(\\n            _ppocr=lambda f: ppocr_fn(f.inference_text),\\n            _ssocr=lambda f: ssocr_fn(f.ssocr),\\n        )\\n        .assign(\\n            # Pre-null ssocrs where pp confidence is high.\\n            _ssocr=lambda f: f._ssocr.where(\\n                f.inference_score.isna() | (f.inference_score < 0.98), np.nan\\n            ),\\n            # Coalesce.\\n            _fused=lambda f: f._ppocr.combine_first(f._ssocr),\\n            # Identify sites where both ocrs have a value, and they agree.\\n            _both_defined_mask=lambda f: f._ppocr.notna() & f._ssocr.notna(),\\n            # _raw_disagree_mask=lambda f: ,\\n            _agree_mask=lambda f: f._ppocr == f._ssocr,\\n            _disagree_mask=lambda f: (f._ppocr != f._ssocr) & f._both_defined_mask,\\n            # Apply mask.\\n            fused=lambda f: f._fused.where(~f._disagree_mask, np.nan),\\n        )\\n    )\\n\\n    if enforce_monotonicity:\\n        _df = _df.assign(fused=lambda f: make_monotonic(f.fused))\\n\\n    if debug:\\n        return _df.rename(columns={\\\"fused\\\": landmark})\\n\\n    return _df.loc[:, [\\\"frame_num\\\", \\\"fused\\\"]].rename(columns={\\\"fused\\\": landmark})\";\n",
       "                var nbb_cells = Jupyter.notebook.get_cells();\n",
       "                for (var i = 0; i < nbb_cells.length; ++i) {\n",
       "                    if (nbb_cells[i].input_prompt_number == nbb_cell_id) {\n",
       "                        if (nbb_cells[i].get_text() == nbb_unformatted_code) {\n",
       "                             nbb_cells[i].set_text(nbb_formatted_code);\n",
       "                        }\n",
       "                        break;\n",
       "                    }\n",
       "                }\n",
       "            }, 500);\n",
       "            "
      ],
      "text/plain": [
       "<IPython.core.display.Javascript object>"
      ]
     },
     "metadata": {},
     "output_type": "display_data"
    }
   ],
   "source": [
    "def _process_time_ppocr(s):\n",
    "    try:\n",
    "        if np.isnan(s):\n",
    "            return None\n",
    "    except TypeError:\n",
    "        pass\n",
    "    if len(s) < 5:\n",
    "        return None\n",
    "    s = s[-5:]\n",
    "    a, m, b = s[:2], s[2], s[3:]\n",
    "    if m != \":\":\n",
    "        return None\n",
    "    try:\n",
    "        return 60 * float(a) + float(b)\n",
    "    except ValueError:\n",
    "        return None\n",
    "\n",
    "\n",
    "def _process_time_ssocr(s):\n",
    "    s = s.strip(\"._\")\n",
    "    if len(s) != 5:\n",
    "        return None\n",
    "    a, m, b = s[:2], s[2], s[3:]\n",
    "    if m != \"1\":\n",
    "        return None\n",
    "    try:\n",
    "        return 60 * float(a) + float(b)\n",
    "    except ValueError:\n",
    "        return None\n",
    "\n",
    "\n",
    "def process_time_ppocr(series):\n",
    "    return series.apply(_process_time_ppocr)\n",
    "\n",
    "\n",
    "def process_time_ssocr(series):\n",
    "    return series.apply(_process_time_ssocr)\n",
    "\n",
    "\n",
    "def _process_distance_ppocr(s):\n",
    "    if not isinstance(s, str):\n",
    "        return None\n",
    "    # search for the pattern in the input string\n",
    "    match = re.search(r\"\\b\\d{1,2}\\.\\d{2}\\b\", s)\n",
    "    # if a match is found, parse the matched substring as a float and return it\n",
    "    if match:\n",
    "        return float(match.group())\n",
    "    # if no match is found, return None\n",
    "    else:\n",
    "        return None\n",
    "\n",
    "\n",
    "def process_distance_ppocr(series):\n",
    "    return series.apply(_process_distance_ppocr)\n",
    "\n",
    "\n",
    "def make_it_float(s):\n",
    "    return pd.to_numeric(s, errors=\"coerce\")\n",
    "\n",
    "\n",
    "def process_field(\n",
    "    df,\n",
    "    landmark,\n",
    "    ppocr_fn=make_it_float,\n",
    "    ssocr_fn=make_it_float,\n",
    "    enforce_monotonicity=False,\n",
    "    debug=False,\n",
    "):\n",
    "    _df = (\n",
    "        df.query(\"landmark == @landmark\")\n",
    "        .reset_index(drop=True)\n",
    "        .assign(\n",
    "            _ppocr=lambda f: ppocr_fn(f.inference_text),\n",
    "            _ssocr=lambda f: ssocr_fn(f.ssocr),\n",
    "        )\n",
    "        .assign(\n",
    "            # Pre-null ssocrs where pp confidence is high.\n",
    "            _ssocr=lambda f: f._ssocr.where(\n",
    "                f.inference_score.isna() | (f.inference_score < 0.98), np.nan\n",
    "            ),\n",
    "            # Coalesce.\n",
    "            _fused=lambda f: f._ppocr.combine_first(f._ssocr),\n",
    "            # Identify sites where both ocrs have a value, and they agree.\n",
    "            _both_defined_mask=lambda f: f._ppocr.notna() & f._ssocr.notna(),\n",
    "            # _raw_disagree_mask=lambda f: ,\n",
    "            _agree_mask=lambda f: f._ppocr == f._ssocr,\n",
    "            _disagree_mask=lambda f: (f._ppocr != f._ssocr) & f._both_defined_mask,\n",
    "            # Apply mask.\n",
    "            fused=lambda f: f._fused.where(~f._disagree_mask, np.nan),\n",
    "        )\n",
    "    )\n",
    "\n",
    "    if enforce_monotonicity:\n",
    "        _df = _df.assign(fused=lambda f: make_monotonic(f.fused))\n",
    "\n",
    "    if debug:\n",
    "        return _df.rename(columns={\"fused\": landmark})\n",
    "\n",
    "    return _df.loc[:, [\"frame_num\", \"fused\"]].rename(columns={\"fused\": landmark})"
   ]
  },
  {
   "cell_type": "code",
   "execution_count": 7,
   "id": "d7caf5ce",
   "metadata": {
    "ExecuteTime": {
     "end_time": "2023-05-28T16:17:35.549897Z",
     "start_time": "2023-05-28T16:17:35.046027Z"
    },
    "scrolled": false
   },
   "outputs": [
    {
     "data": {
      "application/javascript": [
       "\n",
       "            setTimeout(function() {\n",
       "                var nbb_cell_id = 7;\n",
       "                var nbb_unformatted_code = \"speed_df = process_field(df, \\\"SPEED\\\")\\nwatts_df = process_field(df, \\\"WATTS\\\")\\ncadence_df = process_field(df, \\\"CADENCE\\\")\\ndistance_df = process_field(\\n    df, \\\"DISTANCE\\\", ppocr_fn=process_distance_ppocr, enforce_monotonicity=True\\n)\\ntime_df = process_field(\\n    df,\\n    \\\"TIME\\\",\\n    ppocr_fn=process_time_ppocr,\\n    ssocr_fn=process_time_ssocr,\\n    enforce_monotonicity=True,\\n)\\ncalories_df = process_field(\\n    df,\\n    \\\"CALORIES\\\",\\n    enforce_monotonicity=True,\\n)\\n\\n\\n# p9.ggplot(calories_df, p9.aes(\\\"frame_num\\\", \\\"CALORIES\\\")) + p9.geom_line()\";\n",
       "                var nbb_formatted_code = \"speed_df = process_field(df, \\\"SPEED\\\")\\nwatts_df = process_field(df, \\\"WATTS\\\")\\ncadence_df = process_field(df, \\\"CADENCE\\\")\\ndistance_df = process_field(\\n    df, \\\"DISTANCE\\\", ppocr_fn=process_distance_ppocr, enforce_monotonicity=True\\n)\\ntime_df = process_field(\\n    df,\\n    \\\"TIME\\\",\\n    ppocr_fn=process_time_ppocr,\\n    ssocr_fn=process_time_ssocr,\\n    enforce_monotonicity=True,\\n)\\ncalories_df = process_field(\\n    df,\\n    \\\"CALORIES\\\",\\n    enforce_monotonicity=True,\\n)\\n\\n\\n# p9.ggplot(calories_df, p9.aes(\\\"frame_num\\\", \\\"CALORIES\\\")) + p9.geom_line()\";\n",
       "                var nbb_cells = Jupyter.notebook.get_cells();\n",
       "                for (var i = 0; i < nbb_cells.length; ++i) {\n",
       "                    if (nbb_cells[i].input_prompt_number == nbb_cell_id) {\n",
       "                        if (nbb_cells[i].get_text() == nbb_unformatted_code) {\n",
       "                             nbb_cells[i].set_text(nbb_formatted_code);\n",
       "                        }\n",
       "                        break;\n",
       "                    }\n",
       "                }\n",
       "            }, 500);\n",
       "            "
      ],
      "text/plain": [
       "<IPython.core.display.Javascript object>"
      ]
     },
     "metadata": {},
     "output_type": "display_data"
    }
   ],
   "source": [
    "speed_df = process_field(df, \"SPEED\")\n",
    "watts_df = process_field(df, \"WATTS\")\n",
    "cadence_df = process_field(df, \"CADENCE\")\n",
    "distance_df = process_field(\n",
    "    df, \"DISTANCE\", ppocr_fn=process_distance_ppocr, enforce_monotonicity=True\n",
    ")\n",
    "time_df = process_field(\n",
    "    df,\n",
    "    \"TIME\",\n",
    "    ppocr_fn=process_time_ppocr,\n",
    "    ssocr_fn=process_time_ssocr,\n",
    "    enforce_monotonicity=True,\n",
    ")\n",
    "calories_df = process_field(\n",
    "    df,\n",
    "    \"CALORIES\",\n",
    "    enforce_monotonicity=True,\n",
    ")\n",
    "\n",
    "\n",
    "# p9.ggplot(calories_df, p9.aes(\"frame_num\", \"CALORIES\")) + p9.geom_line()"
   ]
  },
  {
   "cell_type": "code",
   "execution_count": 8,
   "id": "48fdf8f8",
   "metadata": {
    "ExecuteTime": {
     "end_time": "2023-05-28T16:17:44.865217Z",
     "start_time": "2023-05-28T16:17:35.551269Z"
    },
    "scrolled": false
   },
   "outputs": [
    {
     "data": {
      "application/javascript": [
       "\n",
       "            setTimeout(function() {\n",
       "                var nbb_cell_id = 8;\n",
       "                var nbb_unformatted_code = \"tr_table = pd.read_csv(\\\"top-row-states.csv\\\").rename(columns=str.upper)\\n\\n\\ndef _impute(row, tr):\\n    indices = [\\\"SPEED\\\", \\\"WATTS\\\", \\\"CADENCE\\\"]\\n\\n    vals = row.loc[indices]\\n    if vals.isna().all():\\n        return row\\n\\n    # distances = np.sqrt((tr - vals) ** 2).mean(axis=\\\"columns\\\")\\n    distances = (tr != vals).sum(axis=\\\"columns\\\")\\n\\n    min_idx = distances.idxmin()\\n    min_val = distances.loc[min_idx]\\n\\n    if min_val <= 2:\\n        row.loc[indices] = tr.loc[min_idx]\\n        return row\\n    else:\\n        row.loc[indices] = np.nan\\n        return row\\n\\n\\ndef impute_top_row(df, tr=tr_table):\\n    return df.apply(lambda e: _impute(e, tr), axis=\\\"columns\\\")\\n\\n\\ntoprow_df = impute_top_row(\\n    functools.reduce(\\n        lambda f, g: f.merge(g, on=\\\"frame_num\\\", how=\\\"inner\\\"),\\n        [speed_df, watts_df, cadence_df],\\n    )\\n)\";\n",
       "                var nbb_formatted_code = \"tr_table = pd.read_csv(\\\"top-row-states.csv\\\").rename(columns=str.upper)\\n\\n\\ndef _impute(row, tr):\\n    indices = [\\\"SPEED\\\", \\\"WATTS\\\", \\\"CADENCE\\\"]\\n\\n    vals = row.loc[indices]\\n    if vals.isna().all():\\n        return row\\n\\n    # distances = np.sqrt((tr - vals) ** 2).mean(axis=\\\"columns\\\")\\n    distances = (tr != vals).sum(axis=\\\"columns\\\")\\n\\n    min_idx = distances.idxmin()\\n    min_val = distances.loc[min_idx]\\n\\n    if min_val <= 2:\\n        row.loc[indices] = tr.loc[min_idx]\\n        return row\\n    else:\\n        row.loc[indices] = np.nan\\n        return row\\n\\n\\ndef impute_top_row(df, tr=tr_table):\\n    return df.apply(lambda e: _impute(e, tr), axis=\\\"columns\\\")\\n\\n\\ntoprow_df = impute_top_row(\\n    functools.reduce(\\n        lambda f, g: f.merge(g, on=\\\"frame_num\\\", how=\\\"inner\\\"),\\n        [speed_df, watts_df, cadence_df],\\n    )\\n)\";\n",
       "                var nbb_cells = Jupyter.notebook.get_cells();\n",
       "                for (var i = 0; i < nbb_cells.length; ++i) {\n",
       "                    if (nbb_cells[i].input_prompt_number == nbb_cell_id) {\n",
       "                        if (nbb_cells[i].get_text() == nbb_unformatted_code) {\n",
       "                             nbb_cells[i].set_text(nbb_formatted_code);\n",
       "                        }\n",
       "                        break;\n",
       "                    }\n",
       "                }\n",
       "            }, 500);\n",
       "            "
      ],
      "text/plain": [
       "<IPython.core.display.Javascript object>"
      ]
     },
     "metadata": {},
     "output_type": "display_data"
    }
   ],
   "source": [
    "tr_table = pd.read_csv(\"top-row-states.csv\").rename(columns=str.upper)\n",
    "\n",
    "\n",
    "def _impute(row, tr):\n",
    "    indices = [\"SPEED\", \"WATTS\", \"CADENCE\"]\n",
    "\n",
    "    vals = row.loc[indices]\n",
    "    if vals.isna().all():\n",
    "        return row\n",
    "\n",
    "    # distances = np.sqrt((tr - vals) ** 2).mean(axis=\"columns\")\n",
    "    distances = (tr != vals).sum(axis=\"columns\")\n",
    "\n",
    "    min_idx = distances.idxmin()\n",
    "    min_val = distances.loc[min_idx]\n",
    "\n",
    "    if min_val <= 2:\n",
    "        row.loc[indices] = tr.loc[min_idx]\n",
    "        return row\n",
    "    else:\n",
    "        row.loc[indices] = np.nan\n",
    "        return row\n",
    "\n",
    "\n",
    "def impute_top_row(df, tr=tr_table):\n",
    "    return df.apply(lambda e: _impute(e, tr), axis=\"columns\")\n",
    "\n",
    "\n",
    "toprow_df = impute_top_row(\n",
    "    functools.reduce(\n",
    "        lambda f, g: f.merge(g, on=\"frame_num\", how=\"inner\"),\n",
    "        [speed_df, watts_df, cadence_df],\n",
    "    )\n",
    ")"
   ]
  },
  {
   "cell_type": "code",
   "execution_count": 9,
   "id": "db121bec",
   "metadata": {
    "ExecuteTime": {
     "end_time": "2023-05-28T16:17:44.930283Z",
     "start_time": "2023-05-28T16:17:44.866936Z"
    }
   },
   "outputs": [
    {
     "data": {
      "text/html": [
       "<div>\n",
       "<style scoped>\n",
       "    .dataframe tbody tr th:only-of-type {\n",
       "        vertical-align: middle;\n",
       "    }\n",
       "\n",
       "    .dataframe tbody tr th {\n",
       "        vertical-align: top;\n",
       "    }\n",
       "\n",
       "    .dataframe thead th {\n",
       "        text-align: right;\n",
       "    }\n",
       "</style>\n",
       "<table border=\"1\" class=\"dataframe\">\n",
       "  <thead>\n",
       "    <tr style=\"text-align: right;\">\n",
       "      <th></th>\n",
       "      <th>frame_num</th>\n",
       "      <th>SPEED</th>\n",
       "      <th>WATTS</th>\n",
       "      <th>CADENCE</th>\n",
       "      <th>DISTANCE</th>\n",
       "      <th>TIME</th>\n",
       "      <th>CALORIES</th>\n",
       "    </tr>\n",
       "  </thead>\n",
       "  <tbody>\n",
       "    <tr>\n",
       "      <th>count</th>\n",
       "      <td>8077.000000</td>\n",
       "      <td>7858.000000</td>\n",
       "      <td>7858.000000</td>\n",
       "      <td>7858.000000</td>\n",
       "      <td>5124.000000</td>\n",
       "      <td>7348.000000</td>\n",
       "      <td>7302.000000</td>\n",
       "    </tr>\n",
       "    <tr>\n",
       "      <th>mean</th>\n",
       "      <td>4054.000000</td>\n",
       "      <td>20.924052</td>\n",
       "      <td>225.336218</td>\n",
       "      <td>56.282387</td>\n",
       "      <td>0.743720</td>\n",
       "      <td>133.842678</td>\n",
       "      <td>20.452712</td>\n",
       "    </tr>\n",
       "    <tr>\n",
       "      <th>std</th>\n",
       "      <td>2331.773395</td>\n",
       "      <td>3.806479</td>\n",
       "      <td>103.242296</td>\n",
       "      <td>10.215873</td>\n",
       "      <td>0.495341</td>\n",
       "      <td>78.500421</td>\n",
       "      <td>16.284463</td>\n",
       "    </tr>\n",
       "    <tr>\n",
       "      <th>min</th>\n",
       "      <td>16.000000</td>\n",
       "      <td>12.200000</td>\n",
       "      <td>53.000000</td>\n",
       "      <td>33.000000</td>\n",
       "      <td>0.000000</td>\n",
       "      <td>0.000000</td>\n",
       "      <td>0.000000</td>\n",
       "    </tr>\n",
       "    <tr>\n",
       "      <th>25%</th>\n",
       "      <td>2035.000000</td>\n",
       "      <td>17.800000</td>\n",
       "      <td>136.000000</td>\n",
       "      <td>48.000000</td>\n",
       "      <td>0.240000</td>\n",
       "      <td>64.750000</td>\n",
       "      <td>6.000000</td>\n",
       "    </tr>\n",
       "    <tr>\n",
       "      <th>50%</th>\n",
       "      <td>4054.000000</td>\n",
       "      <td>22.300000</td>\n",
       "      <td>242.000000</td>\n",
       "      <td>60.000000</td>\n",
       "      <td>0.750000</td>\n",
       "      <td>134.000000</td>\n",
       "      <td>17.000000</td>\n",
       "    </tr>\n",
       "    <tr>\n",
       "      <th>75%</th>\n",
       "      <td>6073.000000</td>\n",
       "      <td>23.400000</td>\n",
       "      <td>284.000000</td>\n",
       "      <td>63.000000</td>\n",
       "      <td>1.180000</td>\n",
       "      <td>202.000000</td>\n",
       "      <td>34.750000</td>\n",
       "    </tr>\n",
       "    <tr>\n",
       "      <th>max</th>\n",
       "      <td>8092.000000</td>\n",
       "      <td>27.900000</td>\n",
       "      <td>466.000000</td>\n",
       "      <td>75.000000</td>\n",
       "      <td>1.571000</td>\n",
       "      <td>270.000000</td>\n",
       "      <td>51.000000</td>\n",
       "    </tr>\n",
       "  </tbody>\n",
       "</table>\n",
       "</div>"
      ],
      "text/plain": [
       "         frame_num        SPEED        WATTS      CADENCE     DISTANCE   \n",
       "count  8077.000000  7858.000000  7858.000000  7858.000000  5124.000000  \\\n",
       "mean   4054.000000    20.924052   225.336218    56.282387     0.743720   \n",
       "std    2331.773395     3.806479   103.242296    10.215873     0.495341   \n",
       "min      16.000000    12.200000    53.000000    33.000000     0.000000   \n",
       "25%    2035.000000    17.800000   136.000000    48.000000     0.240000   \n",
       "50%    4054.000000    22.300000   242.000000    60.000000     0.750000   \n",
       "75%    6073.000000    23.400000   284.000000    63.000000     1.180000   \n",
       "max    8092.000000    27.900000   466.000000    75.000000     1.571000   \n",
       "\n",
       "              TIME     CALORIES  \n",
       "count  7348.000000  7302.000000  \n",
       "mean    133.842678    20.452712  \n",
       "std      78.500421    16.284463  \n",
       "min       0.000000     0.000000  \n",
       "25%      64.750000     6.000000  \n",
       "50%     134.000000    17.000000  \n",
       "75%     202.000000    34.750000  \n",
       "max     270.000000    51.000000  "
      ]
     },
     "execution_count": 9,
     "metadata": {},
     "output_type": "execute_result"
    },
    {
     "data": {
      "text/plain": [
       "frame_num    1.000000\n",
       "SPEED        0.972886\n",
       "WATTS        0.972886\n",
       "CADENCE      0.972886\n",
       "DISTANCE     0.634394\n",
       "TIME         0.909744\n",
       "CALORIES     0.904049\n",
       "dtype: float64"
      ]
     },
     "execution_count": 9,
     "metadata": {},
     "output_type": "execute_result"
    },
    {
     "data": {
      "application/javascript": [
       "\n",
       "            setTimeout(function() {\n",
       "                var nbb_cell_id = 9;\n",
       "                var nbb_unformatted_code = \"rogue_df = functools.reduce(\\n    lambda f, g: f.merge(g, on=\\\"frame_num\\\", how=\\\"inner\\\"),\\n    [toprow_df, distance_df, time_df, calories_df],\\n)\\n\\nrogue_df.describe()\\n\\nrogue_df.notna().mean()\\n\\nrogue_df.to_csv(root / \\\"processed-ocr-output.csv\\\", index=False)\";\n",
       "                var nbb_formatted_code = \"rogue_df = functools.reduce(\\n    lambda f, g: f.merge(g, on=\\\"frame_num\\\", how=\\\"inner\\\"),\\n    [toprow_df, distance_df, time_df, calories_df],\\n)\\n\\nrogue_df.describe()\\n\\nrogue_df.notna().mean()\\n\\nrogue_df.to_csv(root / \\\"processed-ocr-output.csv\\\", index=False)\";\n",
       "                var nbb_cells = Jupyter.notebook.get_cells();\n",
       "                for (var i = 0; i < nbb_cells.length; ++i) {\n",
       "                    if (nbb_cells[i].input_prompt_number == nbb_cell_id) {\n",
       "                        if (nbb_cells[i].get_text() == nbb_unformatted_code) {\n",
       "                             nbb_cells[i].set_text(nbb_formatted_code);\n",
       "                        }\n",
       "                        break;\n",
       "                    }\n",
       "                }\n",
       "            }, 500);\n",
       "            "
      ],
      "text/plain": [
       "<IPython.core.display.Javascript object>"
      ]
     },
     "metadata": {},
     "output_type": "display_data"
    }
   ],
   "source": [
    "rogue_df = functools.reduce(\n",
    "    lambda f, g: f.merge(g, on=\"frame_num\", how=\"inner\"),\n",
    "    [toprow_df, distance_df, time_df, calories_df],\n",
    ")\n",
    "\n",
    "rogue_df.describe()\n",
    "\n",
    "rogue_df.notna().mean()\n",
    "\n",
    "rogue_df.to_csv(root / \"processed-ocr-output.csv\", index=False)"
   ]
  },
  {
   "cell_type": "code",
   "execution_count": null,
   "id": "f85cb4f8",
   "metadata": {
    "ExecuteTime": {
     "start_time": "2023-05-28T16:17:33.801Z"
    },
    "scrolled": false
   },
   "outputs": [],
   "source": [
    "sns.pairplot(rogue_df)"
   ]
  },
  {
   "cell_type": "code",
   "execution_count": null,
   "id": "aff92c6f",
   "metadata": {},
   "outputs": [],
   "source": []
  }
 ],
 "metadata": {
  "kernelspec": {
   "display_name": "python (exercise-machina-3.10.11)",
   "language": "python",
   "name": "exercise-machina-3.10.11"
  },
  "language_info": {
   "codemirror_mode": {
    "name": "ipython",
    "version": 3
   },
   "file_extension": ".py",
   "mimetype": "text/x-python",
   "name": "python",
   "nbconvert_exporter": "python",
   "pygments_lexer": "ipython3",
   "version": "3.10.11"
  },
  "varInspector": {
   "cols": {
    "lenName": 16,
    "lenType": 16,
    "lenVar": 40
   },
   "kernels_config": {
    "python": {
     "delete_cmd_postfix": "",
     "delete_cmd_prefix": "del ",
     "library": "var_list.py",
     "varRefreshCmd": "print(var_dic_list())"
    },
    "r": {
     "delete_cmd_postfix": ") ",
     "delete_cmd_prefix": "rm(",
     "library": "var_list.r",
     "varRefreshCmd": "cat(var_dic_list()) "
    }
   },
   "types_to_exclude": [
    "module",
    "function",
    "builtin_function_or_method",
    "instance",
    "_Feature"
   ],
   "window_display": false
  }
 },
 "nbformat": 4,
 "nbformat_minor": 5
}
