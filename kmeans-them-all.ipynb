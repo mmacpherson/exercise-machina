{
 "cells": [
  {
   "cell_type": "code",
   "execution_count": null,
   "id": "c72b17a9",
   "metadata": {
    "ExecuteTime": {
     "end_time": "2023-05-13T15:32:21.996031Z",
     "start_time": "2023-05-13T15:32:21.933187Z"
    }
   },
   "outputs": [],
   "source": [
    "%load_ext autoreload\n",
    "%autoreload 3\n",
    "%load_ext nb_black\n",
    "%load_ext dotenv\n",
    "%dotenv\n",
    "from IPython.core.interactiveshell import InteractiveShell\n",
    "\n",
    "InteractiveShell.ast_node_interactivity = \"all\""
   ]
  },
  {
   "cell_type": "code",
   "execution_count": null,
   "id": "6f7c239e",
   "metadata": {
    "ExecuteTime": {
     "end_time": "2023-05-13T15:32:22.401747Z",
     "start_time": "2023-05-13T15:32:22.388742Z"
    }
   },
   "outputs": [],
   "source": [
    "import os\n",
    "import glob\n",
    "import pathlib\n",
    "import subprocess\n",
    "\n",
    "root = pathlib.Path(os.environ[\"DATA_ROOT\"]).expanduser()"
   ]
  },
  {
   "cell_type": "code",
   "execution_count": null,
   "id": "a5b506fd",
   "metadata": {
    "ExecuteTime": {
     "end_time": "2023-05-13T15:32:23.847455Z",
     "start_time": "2023-05-13T15:32:22.884829Z"
    }
   },
   "outputs": [],
   "source": [
    "import cv2\n",
    "import numpy as np\n",
    "\n",
    "from matplotlib import pyplot as plt\n",
    "import plotnine as p9\n",
    "import pandas as pd\n",
    "\n",
    "import sklearn.cluster\n",
    "\n",
    "from ipywidgets import interact, IntSlider\n",
    "\n",
    "\n",
    "%matplotlib inline"
   ]
  },
  {
   "cell_type": "code",
   "execution_count": null,
   "id": "a9b6e71c",
   "metadata": {
    "ExecuteTime": {
     "end_time": "2023-05-12T19:30:49.977870Z",
     "start_time": "2023-05-12T19:30:49.844365Z"
    },
    "scrolled": true
   },
   "outputs": [],
   "source": [
    "!ls"
   ]
  },
  {
   "cell_type": "code",
   "execution_count": null,
   "id": "eafe9527",
   "metadata": {
    "ExecuteTime": {
     "end_time": "2023-05-12T19:34:32.067715Z",
     "start_time": "2023-05-12T19:34:23.719728Z"
    }
   },
   "outputs": [],
   "source": [
    "# Load all images\n",
    "image_files = glob.glob(\"/tmp/tmpfpfmyvtl/*.png/*.png\")\n",
    "images = [cv2.imread(file) for file in image_files][::100]\n",
    "\n",
    "# Resize images to common size (optional)\n",
    "# size = (100, 100)\n",
    "#images = [cv2.resize(img, size) for img in images]\n",
    "\n",
    "# Flatten and concatenate pixel data\n",
    "pixels = np.concatenate([img.reshape(-1, 3) for img in images])\n",
    "\n",
    "\n",
    "# Train K-means model\n",
    "kmeans = sklearn.cluster.KMeans(n_clusters=2)\n",
    "kmeans.fit(pixels)\n",
    "\n",
    "# Apply K-means model to each image\n",
    "segmented_images = []\n",
    "for img in images:\n",
    "    labels = kmeans.predict(img.reshape(-1, 3))\n",
    "    segmented_image = labels.reshape(img.shape[:2])\n",
    "    segmented_images.append(segmented_image)\n"
   ]
  },
  {
   "cell_type": "code",
   "execution_count": null,
   "id": "037c5c83",
   "metadata": {
    "ExecuteTime": {
     "end_time": "2023-05-12T19:43:06.955691Z",
     "start_time": "2023-05-12T19:43:06.920315Z"
    }
   },
   "outputs": [],
   "source": [
    "def crop_to_content(image, threshold=10):\n",
    "    \"\"\"\n",
    "    Crops an image iteratively from the edges until each border contains no pixels darker than a threshold.\n",
    "\n",
    "    Parameters:\n",
    "    - image: The input image, should be a grayscale or binary image.\n",
    "    - threshold: The pixel value below which a pixel is considered \"black\".\n",
    "\n",
    "    Returns:\n",
    "    - The cropped image.\n",
    "    \"\"\"\n",
    "\n",
    "    # Convert the image to grayscale if it's not already\n",
    "    if len(image.shape) > 2:\n",
    "        image = cv2.cvtColor(image, cv2.COLOR_BGR2GRAY)\n",
    "\n",
    "    # Get the image dimensions\n",
    "    height, width = image.shape\n",
    "\n",
    "    # Define the crop boundaries\n",
    "    left = 0\n",
    "    right = width - 1\n",
    "    top = 0\n",
    "    bottom = height - 1\n",
    "\n",
    "    # Crop from the left\n",
    "    while np.any(image[:, left] < threshold):\n",
    "        left += 1\n",
    "\n",
    "    # Crop from the right\n",
    "    while np.any(image[:, right] < threshold):\n",
    "        right -= 1\n",
    "\n",
    "    # Crop from the top\n",
    "    while np.any(image[top, :] < threshold):\n",
    "        top += 1\n",
    "\n",
    "    # Crop from the bottom\n",
    "    while np.any(image[bottom, :] < threshold):\n",
    "        bottom -= 1\n",
    "        \n",
    "    print(left, right, top, bottom)\n",
    "\n",
    "    # Perform the crop\n",
    "    image_cropped = image[top:bottom+1, left:right+1]\n",
    "\n",
    "    return image_cropped\n"
   ]
  },
  {
   "cell_type": "code",
   "execution_count": null,
   "id": "6f5da692",
   "metadata": {
    "ExecuteTime": {
     "end_time": "2023-05-12T23:13:27.026023Z",
     "start_time": "2023-05-12T23:13:26.999032Z"
    }
   },
   "outputs": [],
   "source": [
    "def crop_to_content(image, threshold=0.5):\n",
    "    while True:\n",
    "        rows, cols = image.shape\n",
    "        top_row = image[0, :]\n",
    "        bottom_row = image[-1, :]\n",
    "        left_col = image[:, 0]\n",
    "        right_col = image[:, -1]\n",
    "\n",
    "        top_dark_pixels = np.sum(top_row < threshold)\n",
    "        bottom_dark_pixels = np.sum(bottom_row < threshold)\n",
    "        left_dark_pixels = np.sum(left_col < threshold)\n",
    "        right_dark_pixels = np.sum(right_col < threshold)\n",
    "        print(top_dark_pixels, bottom_dark_pixels, left_dark_pixels, right_dark_pixels)\n",
    "\n",
    "        max_dark_pixels = max(top_dark_pixels, bottom_dark_pixels, left_dark_pixels, right_dark_pixels)\n",
    "\n",
    "        if max_dark_pixels == 0:\n",
    "            # No more dark pixels on the edges, stop cropping\n",
    "            break\n",
    "\n",
    "        if max_dark_pixels == top_dark_pixels:\n",
    "            # Remove the top row\n",
    "            image = image[1:, :]\n",
    "        elif max_dark_pixels == bottom_dark_pixels:\n",
    "            # Remove the bottom row\n",
    "            image = image[:-1, :]\n",
    "        elif max_dark_pixels == left_dark_pixels:\n",
    "            # Remove the left column\n",
    "            image = image[:, 1:]\n",
    "        else:  # max_dark_pixels == right_dark_pixels\n",
    "            # Remove the right column\n",
    "            image = image[:, :-1]\n",
    "\n",
    "    return image\n"
   ]
  },
  {
   "cell_type": "code",
   "execution_count": null,
   "id": "f14e90a0",
   "metadata": {
    "ExecuteTime": {
     "end_time": "2023-05-12T19:42:46.965025Z",
     "start_time": "2023-05-12T19:42:46.943153Z"
    }
   },
   "outputs": [],
   "source": [
    "pd.Series(segmented_images[0].ravel()).value_counts()"
   ]
  },
  {
   "cell_type": "code",
   "execution_count": null,
   "id": "51693161",
   "metadata": {
    "ExecuteTime": {
     "end_time": "2023-05-12T19:47:54.802262Z",
     "start_time": "2023-05-12T19:47:54.684974Z"
    }
   },
   "outputs": [],
   "source": [
    "plt.imshow(segmented_images[0])"
   ]
  },
  {
   "cell_type": "code",
   "execution_count": null,
   "id": "c670a142",
   "metadata": {
    "ExecuteTime": {
     "end_time": "2023-05-12T20:00:06.072745Z",
     "start_time": "2023-05-12T20:00:05.953272Z"
    },
    "scrolled": true
   },
   "outputs": [],
   "source": [
    "pimg = crop_to_content(segmented_images[0], 0.5)\n",
    "plt.imshow(pimg)\n",
    "cv2.imwrite(\"foo.png\", (pimg * 255).astype(np.uint8))"
   ]
  },
  {
   "cell_type": "code",
   "execution_count": null,
   "id": "1a4915ea",
   "metadata": {
    "ExecuteTime": {
     "end_time": "2023-05-13T04:27:23.842887Z",
     "start_time": "2023-05-13T04:27:23.819225Z"
    }
   },
   "outputs": [],
   "source": [
    "\n",
    "\n",
    "# Define the image and parameters\n",
    "image = \"/tmp/tmpnzivpd0q/cutouts/cadence-output_001.png\"\n",
    "params = {\n",
    "    #'threshold': 200,\n",
    "    'number-digits': -1,\n",
    "    \"one-ratio\": 7,\n",
    "    #'foreground': 'black',\n",
    "    #'background': 'white',\n",
    "    #'iter-threshold': None,\n",
    "    #'number-pixels': 5,\n",
    "    \n",
    "}\n",
    "\n",
    "commands = [\n",
    "    #\"make_mono\",\n",
    "    #\"grayscale\",\n",
    "    #\"rgb_threshold\"\n",
    "    \n",
    "]\n",
    "\n",
    "# Run the function\n",
    "run_ssocr(image, params, commands)\n",
    "\n",
    "\n"
   ]
  },
  {
   "cell_type": "code",
   "execution_count": null,
   "id": "67151268",
   "metadata": {
    "ExecuteTime": {
     "end_time": "2023-05-13T15:32:35.687442Z",
     "start_time": "2023-05-13T15:32:35.661360Z"
    }
   },
   "outputs": [],
   "source": [
    "import subprocess\n",
    "import cv2\n",
    "import tempfile\n",
    "import os\n",
    "\n",
    "def run_ssocr(image, params, commands):\n",
    "    # Define the command and parameters\n",
    "    cmd = ['./ssocr-2.22.2/ssocr']\n",
    "    \n",
    "    # Add the parameters to the command\n",
    "    for key, value in params.items():\n",
    "        if value is None:\n",
    "            cmd.append(f'--{key}')\n",
    "        else:\n",
    "            cmd.append(f'--{key}={value}')\n",
    "        \n",
    "    for _cmd in commands:\n",
    "        cmd.extend(_cmd.split())\n",
    "    \n",
    "    # If the input is a numpy array, write it to a temporary file\n",
    "    if isinstance(image, str):\n",
    "        cmd.append(image)\n",
    "    else:\n",
    "        # Create a temporary file\n",
    "        temp_file = tempfile.NamedTemporaryFile(suffix=\".png\", delete=False)\n",
    "        temp_file_path = temp_file.name\n",
    "        # Write the image to the temporary file\n",
    "        cv2.imwrite(temp_file_path, image)\n",
    "        cmd.append(temp_file_path)\n",
    "        \n",
    "    #print(f\"{cmd=}\")\n",
    "\n",
    "    # Run the command and get the output\n",
    "    result = subprocess.run(cmd, stdout=subprocess.PIPE, stderr=subprocess.PIPE)\n",
    "    \n",
    "    # Delete the temporary file if it was used\n",
    "    if not isinstance(image, str):\n",
    "        os.remove(temp_file_path)\n",
    "\n",
    "    # Check for errors\n",
    "    if result.stderr:\n",
    "        print(f'Error: {result.stderr.decode()}')\n",
    "\n",
    "    # Return the output\n",
    "    return result.stdout.decode().strip()\n"
   ]
  },
  {
   "cell_type": "code",
   "execution_count": null,
   "id": "34c0d5b3",
   "metadata": {
    "ExecuteTime": {
     "end_time": "2023-05-13T15:34:11.767029Z",
     "start_time": "2023-05-13T15:34:11.495339Z"
    },
    "scrolled": false
   },
   "outputs": [],
   "source": [
    "import ipywidgets as widgets\n",
    "from IPython.display import display\n",
    "\n",
    "images = sorted(glob.glob(\"/tmp/tmpnzivpd0q/cutouts/watts*.png\"))\n",
    "\n",
    "\n",
    "# Additional parameters\n",
    "params = {\n",
    "    'threshold': 50,\n",
    "    'number-digits': -1,\n",
    "    'foreground': 'black',\n",
    "    'background': 'white',\n",
    "    'iter-threshold': False,\n",
    "    'number-pixels': 0,\n",
    "    'ignore-pixels': 0,\n",
    "    'one-ratio': 1.0,\n",
    "    'minus-ratio': 1.0,\n",
    "    'dec-h-ratio': 1.0,\n",
    "    'dec-w-ratio': 1.0,\n",
    "    'process-only': False,\n",
    "    'print-info': False,\n",
    "    'adjust-gray': False,\n",
    "    'luminance': 'default',\n",
    "    'print-spaces': False,\n",
    "    'space-factor': 1.0,\n",
    "    'space-average': False,\n",
    "    'ascii-art-segments': False,\n",
    "    'print-as-hex': False,\n",
    "    'omit-decimal-point': False,\n",
    "    'charset': 'default',\n",
    "}\n",
    "\n",
    "# Create widgets for the parameters\n",
    "threshold_widget = widgets.IntSlider(min=0, max=100, step=1, value=params['threshold'], description='Threshold')\n",
    "number_digits_widget = widgets.IntSlider(min=-1, max=6, step=1, value=params['number-digits'], description='Number of Digits')\n",
    "foreground_widget = widgets.Dropdown(options=['black', 'white'], value=params['foreground'], description='Foreground')\n",
    "background_widget = widgets.Dropdown(options=['black', 'white'], value=params['background'], description='Background')\n",
    "\n",
    "def text_table(xs, ncol=8, width=5):\n",
    "    out = []\n",
    "    while True:\n",
    "        this_row = xs[:ncol]\n",
    "        line = \"\".join(f\"{e:>{width}}\" for e in this_row)\n",
    "        out.append(line)\n",
    "        xs = xs[ncol:]\n",
    "        if not xs:\n",
    "            break\n",
    "    \n",
    "    return \"\\n\".join(out)\n",
    "\n",
    "def update_and_run(threshold, number_digits, white_border):\n",
    "    # Update the parameters\n",
    "    params = {\n",
    "    \"threshold\": threshold,\n",
    "    'number-digits': number_digits\n",
    "    }\n",
    "\n",
    "    commands = [\n",
    "        (f\"white_border {white_border}\" if (white_border > 0) else \"\"),\n",
    "    ]\n",
    "    \n",
    "    # Run the ssocr function\n",
    "#     return pd.DataFrame(\n",
    "#         dict(\n",
    "#             image=[os.path.basename(e) for e in cadence_images],\n",
    "#             result = [run_ssocr(image, params, commands) for image in cadence_images],))\n",
    "    results = [run_ssocr(image, params, commands) for image in images]\n",
    "    print(text_table(results))\n",
    "\n",
    "\n",
    "\n",
    "# Create widgets for the additional parameters\n",
    "iter_threshold_widget = widgets.Checkbox(value=params['iter-threshold'], description='Iterative Threshold')\n",
    "number_pixels_widget = widgets.IntSlider(min=0, max=100, step=1, value=params['number-pixels'], description='Number of Pixels')\n",
    "ignore_pixels_widget = widgets.IntSlider(min=0, max=100, step=1, value=params['ignore-pixels'], description='Ignore Pixels')\n",
    "one_ratio_widget = widgets.FloatSlider(min=0.0, max=2.0, step=0.1, value=params['one-ratio'], description='One Ratio')\n",
    "minus_ratio_widget = widgets.FloatSlider(min=0.0, max=2.0, step=0.1, value=params['minus-ratio'], description='Minus Ratio')\n",
    "dec_h_ratio_widget = widgets.FloatSlider(min=0.0, max=2.0, step=0.1, value=params['dec-h-ratio'], description='Dec H Ratio')\n",
    "dec_w_ratio_widget = widgets.FloatSlider(min=0.0, max=2.0, step=0.1, value=params['dec-w-ratio'], description='Dec W Ratio')\n",
    "process_only_widget = widgets.Checkbox(value=params['process-only'], description='Process Only')\n",
    "print_info_widget = widgets.Checkbox(value=params['print-info'], description='Print Info')\n",
    "adjust_gray_widget = widgets.Checkbox(value=params['adjust-gray'], description='Adjust Gray')\n",
    "luminance_widget = widgets.Text(value=params['luminance'], description='Luminance')\n",
    "print_spaces_widget = widgets.Checkbox(value=params['print-spaces'], description='Print Spaces')\n",
    "space_factor_widget = widgets.FloatSlider(min=0.0, max=2.0, step=0.1, value=params['space-factor'], description='Space Factor')\n",
    "space_average_widget = widgets.Checkbox(value=params['space-average'], description='Space Average')\n",
    "ascii_art_segments_widget = widgets.Checkbox(value=params['ascii-art-segments'], description='ASCII Art Segments')\n",
    "print_as_hex_widget = widgets.Checkbox(value=params['print-as-hex'], description='Print as Hex')\n",
    "omit_decimal_point_widget = widgets.Checkbox(value=params['omit-decimal-point'], description='Omit Decimal Point')\n",
    "charset_widget = widgets.Text(value=params['charset'], description='Charset')\n",
    "white_border_widget = widgets.IntSlider(min=0, max=10, step=1, value=0, description='White Border')\n",
    "\n",
    "# Interactive widget with all parameters\n",
    "widgets.interact(\n",
    "    update_and_run,\n",
    "    threshold=threshold_widget,\n",
    "    number_digits=number_digits_widget,\n",
    "    white_border=white_border_widget,\n",
    ")\n"
   ]
  },
  {
   "cell_type": "code",
   "execution_count": null,
   "id": "61ea8df6",
   "metadata": {
    "ExecuteTime": {
     "end_time": "2023-05-13T15:31:47.959004Z",
     "start_time": "2023-05-13T15:31:47.941002Z"
    }
   },
   "outputs": [],
   "source": [
    "images"
   ]
  },
  {
   "cell_type": "code",
   "execution_count": null,
   "id": "aa4b97c5",
   "metadata": {
    "ExecuteTime": {
     "end_time": "2023-05-13T04:47:15.797749Z",
     "start_time": "2023-05-13T04:47:15.773841Z"
    }
   },
   "outputs": [],
   "source": [
    "4"
   ]
  },
  {
   "cell_type": "code",
   "execution_count": null,
   "id": "a38628bf",
   "metadata": {
    "ExecuteTime": {
     "end_time": "2023-05-13T04:00:20.847014Z",
     "start_time": "2023-05-13T04:00:20.825738Z"
    }
   },
   "outputs": [],
   "source": [
    "[e for e in dir(cv2) if \"OTSU\" in e]"
   ]
  },
  {
   "cell_type": "code",
   "execution_count": null,
   "id": "29ecc27a",
   "metadata": {
    "ExecuteTime": {
     "end_time": "2023-05-12T23:32:28.560555Z",
     "start_time": "2023-05-12T23:32:28.519490Z"
    },
    "scrolled": false
   },
   "outputs": [],
   "source": [
    "pimg = crop_to_content(img)\n",
    "plt.imshow(pimg)"
   ]
  },
  {
   "cell_type": "code",
   "execution_count": null,
   "id": "c291f828",
   "metadata": {
    "ExecuteTime": {
     "end_time": "2023-05-12T19:57:42.975661Z",
     "start_time": "2023-05-12T19:57:42.856352Z"
    }
   },
   "outputs": [],
   "source": [
    "def preprocess_image(image, blur_kernel_size, dilation_size, edge_size):\n",
    "    # 1. Blurring\n",
    "    image = cv2.GaussianBlur(image, (blur_kernel_size, blur_kernel_size), 0)\n",
    "    \n",
    "    # 2. Thresholding\n",
    "    _, image = cv2.threshold(image, 0, 255, cv2.THRESH_BINARY+cv2.THRESH_OTSU)\n",
    "    \n",
    "    # 3. Dilation\n",
    "    kernel = np.ones((dilation_size, dilation_size), np.uint8)\n",
    "    image = cv2.dilate(image, kernel, iterations=1)\n",
    "    \n",
    "    # 4. Edge removal\n",
    "    image[edge_size:-edge_size, edge_size:-edge_size] = 255\n",
    "\n",
    "    return image\n",
    "\n",
    "def interactive_preprocessing(image):\n",
    "    interact(lambda blur_kernel_size, dilation_size, edge_size: plt.imshow(preprocess_image(image, blur_kernel_size, dilation_size, edge_size), cmap='gray'),\n",
    "             blur_kernel_size=IntSlider(min=1, max=11, step=2, value=3),\n",
    "             dilation_size=IntSlider(min=1, max=11, step=2, value=3),\n",
    "             edge_size=IntSlider(min=0, max=50, step=1, value=0))\n",
    "\n",
    "# Example usage:\n",
    "# img = cv2.imread('image.png', cv2.IMREAD_GRAYSCALE)\n",
    "interactive_preprocessing(((1-pimg)*255).astype(np.uint8))\n"
   ]
  },
  {
   "cell_type": "code",
   "execution_count": null,
   "id": "49777cdc",
   "metadata": {
    "ExecuteTime": {
     "end_time": "2023-05-04T03:13:17.324472Z",
     "start_time": "2023-05-04T03:13:17.279702Z"
    }
   },
   "outputs": [],
   "source": [
    "def run_length_score(binary_image):\n",
    "    pixel_counts = dict(zip(*np.unique(im1.ravel(), return_counts=True)))\n",
    "    assert len(pixel_counts)<=2, \"Should be a binary image.\"\n",
    "    \n",
    "    def row_run_lengths(row):\n",
    "        return np.sum(row * (row >= np.roll(row, 1)))\n",
    "\n",
    "    def column_run_lengths(col):\n",
    "        return np.sum(col * (col >= np.roll(col, 1)))\n",
    "\n",
    "    row_scores = np.apply_along_axis(row_run_lengths, 1, binary_image)\n",
    "    col_scores = np.apply_along_axis(column_run_lengths, 0, binary_image)\n",
    "\n",
    "    return np.sum(row_scores) + np.sum(col_scores)\n",
    "\n",
    "def rotate_image(image, angle, border_value=0):\n",
    "    rows, cols = image.shape\n",
    "    rotation_matrix = cv2.getRotationMatrix2D((cols / 2, rows / 2), angle, 1)\n",
    "    rotated_image = cv2.warpAffine(image, rotation_matrix, (cols, rows), borderValue=border_value)\n",
    "    return rotated_image\n",
    "\n",
    "def straighten_image_maximize_run_length(binary_image, angle_range=(-10, 10), num_angles=100):\n",
    "    best_score = -1\n",
    "    best_angle = 0\n",
    "\n",
    "    angles = np.linspace(angle_range[0], angle_range[1], num_angles)\n",
    "\n",
    "    for angle in angles:\n",
    "        rotated_image = rotate_image(binary_image, angle)\n",
    "        score = run_length_score(rotated_image)\n",
    "        \n",
    "        if score > best_score:\n",
    "            best_score = score\n",
    "            best_angle = angle\n",
    "\n",
    "    # Apply the best rotation angle to the image\n",
    "    straightened_image = rotate_image(binary_image, best_angle)\n",
    "\n",
    "    return straightened_image\n"
   ]
  },
  {
   "cell_type": "code",
   "execution_count": null,
   "id": "6f9ad508",
   "metadata": {
    "ExecuteTime": {
     "end_time": "2023-05-04T03:30:13.302018Z",
     "start_time": "2023-05-04T03:30:13.153609Z"
    }
   },
   "outputs": [],
   "source": [
    "import cv2\n",
    "import numpy as np\n",
    "from skimage.transform import hough_line, hough_line_peaks\n",
    "\n",
    "\n",
    "def correct_rotation(image):\n",
    "    edges = cv2.Canny(image, 50, 150)\n",
    "    hspace, angles, distances = hough_line(edges)\n",
    "\n",
    "    _, _, angles = hough_line_peaks(hspace, angles, distances)\n",
    "    mean_angle = np.mean(angles)\n",
    "\n",
    "    rotation_angle = np.rad2deg(mean_angle) % 180\n",
    "    if rotation_angle > 90:\n",
    "        rotation_angle -= 180\n",
    "\n",
    "    print(f\"{rotation_angle=}\")\n",
    "\n",
    "    rows, cols = image.shape\n",
    "    rotation_matrix = cv2.getRotationMatrix2D((cols / 2, rows / 2), rotation_angle, 1)\n",
    "    rotated_image = cv2.warpAffine(\n",
    "        image, rotation_matrix, (cols, rows), borderMode=cv2.BORDER_REPLICATE\n",
    "    )\n",
    "\n",
    "    return rotated_image\n",
    "\n",
    "\n",
    "def rotate_image(image, angle):\n",
    "    rows, cols = image.shape\n",
    "    rotation_matrix = cv2.getRotationMatrix2D((cols / 2, rows / 2), angle, 1)\n",
    "    rotated_image = cv2.warpAffine(\n",
    "        image, rotation_matrix, (cols, rows), borderMode=cv2.BORDER_REPLICATE\n",
    "    )\n",
    "    return rotated_image\n",
    "\n",
    "\n",
    "def correct_rotation(image, angle_range=(-10, 10), num_angles=100):\n",
    "    best_score = float(\"inf\")\n",
    "    best_angle = 0\n",
    "\n",
    "    angles = np.linspace(angle_range[0], angle_range[1], num_angles)\n",
    "\n",
    "    for angle in angles:\n",
    "        rotated_image = rotate_image(image, angle)\n",
    "        moments = cv2.moments(rotated_image)\n",
    "        score = moments[\"mu02\"] + moments[\"mu20\"]\n",
    "\n",
    "        if score < best_score:\n",
    "            best_score = score\n",
    "            best_angle = angle\n",
    "\n",
    "    print(f\"{best_angle=}\")\n",
    "\n",
    "    corrected_image = rotate_image(image, best_angle)\n",
    "    return corrected_image\n",
    "\n",
    "\n",
    "def correct_rotation(image):\n",
    "    contours, _ = cv2.findContours(image, cv2.RETR_EXTERNAL, cv2.CHAIN_APPROX_SIMPLE)\n",
    "\n",
    "    angles = []\n",
    "    for contour in contours:\n",
    "        _, _, w, h = cv2.boundingRect(contour)\n",
    "        if w > 0 and h > 0:\n",
    "            aspect_ratio = float(w) / h\n",
    "            if 0.2 < aspect_ratio < 0.8:\n",
    "                _, (w, h), angle = cv2.minAreaRect(contour)\n",
    "                if w < h:\n",
    "                    angle += 90\n",
    "                angles.append(angle)\n",
    "\n",
    "    if not angles:\n",
    "        return image\n",
    "\n",
    "    median_angle = np.median(angles)\n",
    "    corrected_image = rotate_image(image, median_angle)\n",
    "    return corrected_image\n",
    "\n",
    "\n",
    "def correct_rotation(image, angle_range=(-10, 10)):\n",
    "    contours, _ = cv2.findContours(image, cv2.RETR_EXTERNAL, cv2.CHAIN_APPROX_SIMPLE)\n",
    "\n",
    "    angles = []\n",
    "    for contour in contours:\n",
    "        print(contour)\n",
    "        _, _, w, h = cv2.boundingRect(contour)\n",
    "        if w > 0 and h > 0:\n",
    "            aspect_ratio = float(w) / h\n",
    "            if 0.2 < aspect_ratio < 0.8:\n",
    "                _, (w, h), angle = cv2.minAreaRect(contour)\n",
    "                if w < h:\n",
    "                    angle += 90\n",
    "                angles.append(angle)\n",
    "\n",
    "    if not angles:\n",
    "        return image\n",
    "\n",
    "    median_angle = np.median(angles)\n",
    "\n",
    "    # Limit the rotation angle to the specified range\n",
    "    median_angle = max(angle_range[0], min(median_angle, angle_range[1]))\n",
    "\n",
    "    corrected_image = rotate_image(image, median_angle)\n",
    "    return corrected_image\n",
    "\n",
    "\n",
    "def preprocess_seven_segment_image(image_path):\n",
    "    image = cv2.imread(image_path)\n",
    "    grayscale_image = cv2.cvtColor(image, cv2.COLOR_BGR2GRAY)\n",
    "\n",
    "    _, binary_image = cv2.threshold(\n",
    "        grayscale_image, 0, 255, cv2.THRESH_BINARY_INV + cv2.THRESH_OTSU\n",
    "    )\n",
    "\n",
    "    rotated_image = correct_rotation(binary_image)\n",
    "    # rotated_image = binary_image\n",
    "\n",
    "    # kernel = np.ones((2, 2), np.uint8)\n",
    "    # cleaned_image = cv2.morphologyEx(rotated_image, cv2.MORPH_CLOSE, kernel)\n",
    "    cleaned_image = rotated_image\n",
    "\n",
    "    return cleaned_image\n",
    "\n",
    "\n",
    "# Example usage:\n",
    "image_path = \"test-number.png\"\n",
    "preprocessed_image = preprocess_seven_segment_image(image_path)\n",
    "plt.imshow(preprocessed_image)"
   ]
  },
  {
   "cell_type": "code",
   "execution_count": null,
   "id": "b6cda1b6",
   "metadata": {
    "ExecuteTime": {
     "end_time": "2023-05-13T15:32:09.525966Z",
     "start_time": "2023-05-13T15:32:09.389328Z"
    }
   },
   "outputs": [],
   "source": [
    "!ls /tmp/tmpnzivpd0q/cutouts/speed*.png"
   ]
  },
  {
   "cell_type": "code",
   "execution_count": null,
   "id": "ee3320e4",
   "metadata": {
    "ExecuteTime": {
     "end_time": "2023-05-04T03:12:06.032018Z",
     "start_time": "2023-05-04T03:12:04.708089Z"
    }
   },
   "outputs": [],
   "source": [
    "im1, im2 = ocr.process_image(\"test-number.png\")"
   ]
  },
  {
   "cell_type": "code",
   "execution_count": null,
   "id": "5b3c6c74",
   "metadata": {
    "ExecuteTime": {
     "end_time": "2023-05-04T03:13:26.532965Z",
     "start_time": "2023-05-04T03:13:26.510805Z"
    }
   },
   "outputs": [],
   "source": [
    "np.unique(rotate_image(im1, 1).ravel())"
   ]
  },
  {
   "cell_type": "code",
   "execution_count": null,
   "id": "18240fe0",
   "metadata": {
    "ExecuteTime": {
     "end_time": "2023-05-02T03:54:01.589348Z",
     "start_time": "2023-05-02T03:54:01.375582Z"
    }
   },
   "outputs": [],
   "source": [
    "plt.imshow(im2)"
   ]
  },
  {
   "cell_type": "code",
   "execution_count": null,
   "id": "818b2855",
   "metadata": {},
   "outputs": [],
   "source": [
    "def load_image(image_path):\n",
    "    # Load the image\n",
    "    # image = cv2.imread(str(image_path), cv2.IMREAD_GRAYSCALE)\n",
    "    image = cv2.imread(str(image_path), cv2.IMREAD_COLOR)\n",
    "    return np.fliplr(np.flipud(image))\n",
    "\n",
    "\n",
    "def deskew_image(image):\n",
    "    # Convert the image to grayscale if it's not already\n",
    "    if len(image.shape) == 3:\n",
    "        gray = cv2.cvtColor(image, cv2.COLOR_BGR2GRAY)\n",
    "    else:\n",
    "        gray = image\n",
    "\n",
    "    # Apply a binary threshold\n",
    "    _, thresh = cv2.threshold(gray, 0, 255, cv2.THRESH_BINARY | cv2.THRESH_OTSU)\n",
    "\n",
    "    # Get the coordinates of the non-zero pixels\n",
    "    coords = np.column_stack(np.where(thresh > 0))\n",
    "\n",
    "    # Compute the minimum rotated bounding box\n",
    "    angle = cv2.minAreaRect(coords)[-1]\n",
    "    print(f\"{angle=}\")\n",
    "\n",
    "    # Correct the angle\n",
    "    if angle < -45:\n",
    "        angle = -(90 + angle)\n",
    "    else:\n",
    "        angle = -angle\n",
    "\n",
    "    # Get the image size\n",
    "    (h, w) = gray.shape[:2]\n",
    "\n",
    "    # Calculate the center of the image\n",
    "    center = (w // 2, h // 2)\n",
    "\n",
    "    # Rotate the image using the computed angle\n",
    "    M = cv2.getRotationMatrix2D(center, angle, 1.0)\n",
    "    rotated = cv2.warpAffine(\n",
    "        gray, M, (w, h), flags=cv2.INTER_CUBIC, borderMode=cv2.BORDER_REPLICATE\n",
    "    )\n",
    "\n",
    "    return rotated\n",
    "\n",
    "\n",
    "def preprocess_image(image):\n",
    "    # Resize the image\n",
    "    scale_percent = 150\n",
    "    width = int(image.shape[1] * scale_percent / 100)\n",
    "    height = int(image.shape[0] * scale_percent / 100)\n",
    "    dim = (width, height)\n",
    "    resized = cv2.resize(image, dim, interpolation=cv2.INTER_LINEAR)\n",
    "\n",
    "    # Apply binary thresholding\n",
    "    _, thresholded = cv2.threshold(\n",
    "        resized, 128, 255, cv2.THRESH_BINARY | cv2.THRESH_OTSU\n",
    "    )\n",
    "\n",
    "    # Apply morphological operations\n",
    "    kernel = np.ones((1, 1), np.uint8)\n",
    "    opening = cv2.morphologyEx(thresholded, cv2.MORPH_OPEN, kernel)\n",
    "    closing = cv2.morphologyEx(opening, cv2.MORPH_CLOSE, kernel)\n",
    "\n",
    "    # Remove noise\n",
    "    denoised = cv2.fastNlMeansDenoising(\n",
    "        closing, h=20, templateWindowSize=7, searchWindowSize=21\n",
    "    )\n",
    "\n",
    "    return denoised\n",
    "\n",
    "\n",
    "def segment_image(image, k=3):\n",
    "    # Reshape the image to a 2D array of pixels\n",
    "    pixels = image.reshape((-1, 3))\n",
    "\n",
    "    # Convert to floating-point\n",
    "    pixels = np.float32(pixels)\n",
    "\n",
    "    # Define the criteria and apply k-means clustering\n",
    "    criteria = (cv2.TERM_CRITERIA_EPS + cv2.TERM_CRITERIA_MAX_ITER, 100, 0.2)\n",
    "\n",
    "    _, labels, centers = cv2.kmeans(\n",
    "        pixels, k, None, criteria, 10, cv2.KMEANS_RANDOM_CENTERS\n",
    "    )\n",
    "\n",
    "    # Convert back to 8-bit values\n",
    "    centers = np.uint8(centers)\n",
    "\n",
    "    # Map the segmented image\n",
    "    segmented_image = centers[labels.flatten()]\n",
    "\n",
    "    # Reshape the image to its original dimensions\n",
    "    segmented_image = segmented_image.reshape(image.shape)\n",
    "\n",
    "    return segmented_image"
   ]
  },
  {
   "cell_type": "code",
   "execution_count": null,
   "id": "469e7a21",
   "metadata": {
    "scrolled": false
   },
   "outputs": [],
   "source": [
    "# p9.ggplot(pd.DataFrame(dict(x=np.ravel(img))), p9.aes(x=\"x\")) + p9.geom_histogram()"
   ]
  },
  {
   "cell_type": "code",
   "execution_count": null,
   "id": "431d90a9",
   "metadata": {
    "scrolled": false
   },
   "outputs": [],
   "source": [
    "plt.rcParams[\"figure.figsize\"] = (6, 12)\n",
    "img = load_image(root / \"0117.png\")\n",
    "img = img[900:-400, :, :]\n",
    "plt.imshow(img)\n",
    "\n",
    "plt.imshow(segment_image(img, k=10))\n",
    "# plt.imshow(img)\n",
    "\n",
    "# plt.imshow(deskew_image(img))\n",
    "\n",
    "# plt.imshow(np.where(img < 100, img, 255))\n",
    "\n",
    "\n",
    "# (img, dpi=600)"
   ]
  },
  {
   "cell_type": "code",
   "execution_count": null,
   "id": "b1db59b6",
   "metadata": {},
   "outputs": [],
   "source": [
    "from pytesseract import pytesseract\n",
    "\n",
    "# Set the path to the Tesseract executable\n",
    "pytesseract.tesseract_cmd = r'/path/to/tesseract'\n",
    "\n",
    "# Preprocess the image\n",
    "image_path = 'path/to/your/image.jpg'\n",
    "preprocessed_image = preprocess_image(image_path)\n",
    "\n",
    "# Run Tesseract OCR on the preprocessed image\n",
    "text = pytesseract.image_to_string(preprocessed_image)\n",
    "print(text)\n"
   ]
  }
 ],
 "metadata": {
  "kernelspec": {
   "display_name": "python (exercise-machina-3.10.11)",
   "language": "python",
   "name": "exercise-machina-3.10.11"
  },
  "language_info": {
   "codemirror_mode": {
    "name": "ipython",
    "version": 3
   },
   "file_extension": ".py",
   "mimetype": "text/x-python",
   "name": "python",
   "nbconvert_exporter": "python",
   "pygments_lexer": "ipython3",
   "version": "3.10.11"
  },
  "varInspector": {
   "cols": {
    "lenName": 16,
    "lenType": 16,
    "lenVar": 40
   },
   "kernels_config": {
    "python": {
     "delete_cmd_postfix": "",
     "delete_cmd_prefix": "del ",
     "library": "var_list.py",
     "varRefreshCmd": "print(var_dic_list())"
    },
    "r": {
     "delete_cmd_postfix": ") ",
     "delete_cmd_prefix": "rm(",
     "library": "var_list.r",
     "varRefreshCmd": "cat(var_dic_list()) "
    }
   },
   "types_to_exclude": [
    "module",
    "function",
    "builtin_function_or_method",
    "instance",
    "_Feature"
   ],
   "window_display": false
  }
 },
 "nbformat": 4,
 "nbformat_minor": 5
}
